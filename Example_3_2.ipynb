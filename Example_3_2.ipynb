{
 "cells": [
  {
   "cell_type": "markdown",
   "metadata": {},
   "source": [
    "# Improvement through data driven Marginals"
   ]
  },
  {
   "cell_type": "code",
   "execution_count": 1,
   "metadata": {},
   "outputs": [
    {
     "name": "stdout",
     "output_type": "stream",
     "text": [
      "Succesfully loaded\n"
     ]
    },
    {
     "name": "stderr",
     "output_type": "stream",
     "text": [
      "C:\\Users\\julia\\anaconda3\\lib\\_collections_abc.py:832: MatplotlibDeprecationWarning: \n",
      "The text.latex.unicode rcparam was deprecated in Matplotlib 3.0 and will be removed in 3.2.\n",
      "  self[key] = other[key]\n"
     ]
    }
   ],
   "source": [
    "import matplotlib.pyplot as plt\n",
    "import numpy as np\n",
    "import pandas as pd\n",
    "from scipy.interpolate import interp1d\n",
    "from matplotlib import style\n",
    "import itertools\n",
    "style.use('ggplot')\n",
    "plt.rc('text', usetex=True)\n",
    "print(\"Succesfully loaded\")\n",
    "#Direct input \n",
    "plt.rcParams['text.latex.preamble']=[r\"\\usepackage{lmodern}\"]\n",
    "#Options\n",
    "params = {'text.usetex' : True,\n",
    "          'font.size' : 15,\n",
    "          'font.family' : 'lmodern',\n",
    "          'text.latex.unicode': True,\n",
    "          }\n",
    "plt.rcParams.update(params) "
   ]
  },
  {
   "cell_type": "markdown",
   "metadata": {},
   "source": [
    "First, we import the csv files containing the data (Company1 = Apple, Company2 = Microsoft)"
   ]
  },
  {
   "cell_type": "code",
   "execution_count": 2,
   "metadata": {
    "scrolled": true
   },
   "outputs": [],
   "source": [
    "company_1_t1_call = pd.read_csv('csv/company_1_t1_call.csv')\n",
    "company_1_t2_call = pd.read_csv('csv/company_1_t2_call.csv')\n",
    "company_2_t1_call = pd.read_csv('csv/company_2_t1_call.csv')\n",
    "company_2_t2_call = pd.read_csv('csv/company_2_t2_call.csv')\n",
    "company_1_t1_put = pd.read_csv('csv/company_1_t1_put.csv')\n",
    "company_1_t2_put = pd.read_csv('csv/company_1_t2_put.csv')\n",
    "company_2_t1_put = pd.read_csv('csv/company_2_t1_put.csv')\n",
    "company_2_t2_put = pd.read_csv('csv/company_2_t2_put.csv')"
   ]
  },
  {
   "cell_type": "markdown",
   "metadata": {},
   "source": [
    "Next, we want to derive the corresponding marginals.\n",
    "According to Breeden-Litzenberger, and by applying finite differences, we have\n",
    "$$\n",
    "prob(K) \\approx \\frac{C(K_{i+1},t)-2C(K_{i},t)+C(K_{i-1},t)}{(K_{i+1}-K_{i})(K_{i}-K_{i-1})}= \\frac{P(K_{i+1},t)-2P(K_{i},t)+P(K_{i-1},t)}{(K_{i+1}-K_{i})(K_{i}-K_{i-1})}\n",
    "$$\n",
    "We leave out the first and last strike.\n",
    "\n",
    "We then normalize the sum of probabilities"
   ]
  },
  {
   "cell_type": "code",
   "execution_count": 3,
   "metadata": {},
   "outputs": [],
   "source": [
    "def prices_to_density(strikes_call,prices_call,strikes_put,prices_put,finite_differences = True):\n",
    "    probs = []\n",
    "    strikes = []\n",
    "    # First Stike\n",
    "    probs.append(0)\n",
    "    strikes.append(strikes_put[0])\n",
    "    if finite_differences:\n",
    "        #Loop over Put Options \n",
    "        for i in range(1,len(strikes_put)-1):\n",
    "            probs.append((prices_put[i+1]-2*prices_put[i]+prices_put[i-1])/((strikes_put[i+1]-strikes_put[i])*(strikes_put[i]-strikes_put[i-1])))\n",
    "            strikes.append(strikes_put[i])\n",
    "        #Loop over Call Options \n",
    "        for i in range(1,len(strikes_call)-1):\n",
    "            probs.append((prices_call[i+1]-2*prices_call[i]+prices_call[i-1])/((strikes_call[i+1]-strikes_call[i])*(strikes_call[i]-strikes_call[i-1])))\n",
    "            strikes.append(strikes_call[i])\n",
    "    else:\n",
    "        #Loop over Put Options \n",
    "        for i in range(1,len(strikes_put)-1):\n",
    "            probs.append((prices_put[i+1]-prices_put[i])/(strikes_put[i+1]-strikes_put[i])-(prices_put[i]-prices_put[i-1])/(strikes_put[i]-strikes_put[i-1]))\n",
    "            strikes.append(strikes_put[i])\n",
    "        #Loop over Call Options \n",
    "        for i in range(1,len(strikes_call)-1):\n",
    "            probs.append((prices_call[i+1]-prices_call[i])/(strikes_call[i+1]-strikes_call[i])-(prices_call[i]-prices_call[i-1])/(strikes_call[i]-strikes_call[i-1]))\n",
    "            strikes.append(strikes_call[i])\n",
    "    # Last Strike\n",
    "    probs.append(0)\n",
    "    strikes.append(strikes_call[-1])\n",
    "    #normalize\n",
    "    sum_p = sum(probs)\n",
    "    probs = [p/sum_p for p in probs]\n",
    "    return strikes, probs"
   ]
  },
  {
   "cell_type": "markdown",
   "metadata": {},
   "source": [
    "Clean the call option prices for non-decreasing prices"
   ]
  },
  {
   "cell_type": "code",
   "execution_count": 4,
   "metadata": {},
   "outputs": [],
   "source": [
    "def clean_call_prices(list_of_strikes,list_of_prices):\n",
    "    while(any(np.diff(np.array(list_of_prices))>0)):\n",
    "        violation_index = 1000000000\n",
    "        for i in range(1,len(list_of_strikes)):\n",
    "            if list_of_prices[i]>list_of_prices[i-1]:\n",
    "                violation_index = i\n",
    "                break\n",
    "        list_of_strikes = [list_of_strikes[i] for i in range(len(list_of_strikes)) if i != violation_index]\n",
    "        list_of_prices  = [list_of_prices [i] for i in range(len(list_of_prices )) if i != violation_index]\n",
    "    return list_of_strikes, list_of_prices"
   ]
  },
  {
   "cell_type": "code",
   "execution_count": 5,
   "metadata": {},
   "outputs": [],
   "source": [
    "company_1_t1_call_STRIKE_PRC, company_1_t1_call_MID = clean_call_prices(list(company_1_t1_call.STRIKE_PRC),\n",
    "                                                                        list(company_1_t1_call.MID))\n",
    "company_2_t1_call_STRIKE_PRC, company_2_t1_call_MID = clean_call_prices(list(company_2_t1_call.STRIKE_PRC),\n",
    "                                                                        list(company_2_t1_call.MID))\n",
    "company_1_t2_call_STRIKE_PRC, company_1_t2_call_MID = clean_call_prices(list(company_1_t2_call.STRIKE_PRC),\n",
    "                                                                        list(company_1_t2_call.MID))\n",
    "company_2_t2_call_STRIKE_PRC, company_2_t2_call_MID = clean_call_prices(list(company_2_t2_call.STRIKE_PRC),\n",
    "                                                                        list(company_2_t2_call.MID))"
   ]
  },
  {
   "cell_type": "markdown",
   "metadata": {},
   "source": [
    "We proceed similarly for put options"
   ]
  },
  {
   "cell_type": "code",
   "execution_count": 6,
   "metadata": {},
   "outputs": [],
   "source": [
    "def clean_put_prices(list_of_strikes,list_of_prices):\n",
    "    while(any(np.diff(np.array(list_of_prices))<0)):\n",
    "        violation_index = 1000000000\n",
    "        for i in range(1,len(list_of_strikes)):\n",
    "            if list_of_prices[i]<list_of_prices[i-1]:\n",
    "                violation_index = i\n",
    "                break\n",
    "        list_of_strikes = [list_of_strikes[i] for i in range(len(list_of_strikes)) if i != violation_index]\n",
    "        list_of_prices  = [list_of_prices [i] for i in range(len(list_of_prices )) if i != violation_index]\n",
    "    return list_of_strikes, list_of_prices"
   ]
  },
  {
   "cell_type": "code",
   "execution_count": 7,
   "metadata": {},
   "outputs": [],
   "source": [
    "company_1_t1_put_STRIKE_PRC, company_1_t1_put_MID = clean_put_prices(list(company_1_t1_put.STRIKE_PRC),\n",
    "                                                                        list(company_1_t1_put.MID))\n",
    "company_2_t1_put_STRIKE_PRC, company_2_t1_put_MID = clean_put_prices(list(company_2_t1_put.STRIKE_PRC),\n",
    "                                                                        list(company_2_t1_put.MID))\n",
    "company_1_t2_put_STRIKE_PRC, company_1_t2_put_MID = clean_put_prices(list(company_1_t2_put.STRIKE_PRC),\n",
    "                                                                        list(company_1_t2_put.MID))\n",
    "company_2_t2_put_STRIKE_PRC, company_2_t2_put_MID = clean_put_prices(list(company_2_t2_put.STRIKE_PRC),\n",
    "                                                                        list(company_2_t2_put.MID))"
   ]
  },
  {
   "cell_type": "markdown",
   "metadata": {},
   "source": [
    "We continue cleaning by checking the convexity conditions, i.e. we check that\n",
    "$$ \\frac{C(K_{i+1},t)-C(K_{i},t)}{K_{i+1}-K_{i}}\n",
    "$$\n",
    "as well as\n",
    "$$ \\frac{P(K_{i+1},t)-P(K_{i},t)}{K_{i+1}-K_{i}}\n",
    "$$\n",
    "are increasing functions in $K_i$.\n",
    "We leave out the first and last strike.\n",
    "\n",
    "We then normalize the sum of probabilities"
   ]
  },
  {
   "cell_type": "code",
   "execution_count": 8,
   "metadata": {},
   "outputs": [],
   "source": [
    "def clean_prices_2(list_of_strikes,list_of_prices,finite_differences = True):\n",
    "    if finite_differences:\n",
    "        slope =  [(list_of_prices[i+1]-2*list_of_prices[i]+list_of_prices[i-1])/((list_of_strikes[i+1]-list_of_strikes[i])*(list_of_strikes[i]-list_of_strikes[i-1])) for i in range(1,len(list_of_strikes)-1)]\n",
    "    else:\n",
    "        slope = [(list_of_prices[i+1]-list_of_prices[i])/(list_of_strikes[i+1]-list_of_strikes[i])-(list_of_prices[i]-list_of_prices[i-1])/(list_of_strikes[i]-list_of_strikes[i-1]) for i in range(1,len(list_of_strikes)-1)]      \n",
    "    while(any((np.array(slope))<0)):\n",
    "        violation_index = 1000000000\n",
    "        for i in range(len(list_of_strikes)-2):\n",
    "            if slope[i]<0:\n",
    "                violation_index = i+2\n",
    "                break\n",
    "        list_of_strikes = [list_of_strikes[i] for i in range(len(list_of_strikes)) if i != violation_index]\n",
    "        list_of_prices  = [list_of_prices [i] for i in range(len(list_of_prices )) if i != violation_index]\n",
    "        if finite_differences:\n",
    "            slope =  [(list_of_prices[i+1]-2*list_of_prices[i]+list_of_prices[i-1])/((list_of_strikes[i+1]-list_of_strikes[i])*(list_of_strikes[i]-list_of_strikes[i-1])) for i in range(1,len(list_of_strikes)-1)]\n",
    "        else:\n",
    "            slope = [(list_of_prices[i+1]-list_of_prices[i])/(list_of_strikes[i+1]-list_of_strikes[i])-(list_of_prices[i]-list_of_prices[i-1])/(list_of_strikes[i]-list_of_strikes[i-1]) for i in range(1,len(list_of_strikes)-1)]      \n",
    "\n",
    "    return list_of_strikes, list_of_prices"
   ]
  },
  {
   "cell_type": "code",
   "execution_count": 9,
   "metadata": {},
   "outputs": [],
   "source": [
    " company_1_t1_call_STRIKE_PRC, company_1_t1_call_MID = clean_prices_2(company_1_t1_call_STRIKE_PRC,\n",
    "                                                                         company_1_t1_call_MID)\n",
    " company_2_t1_call_STRIKE_PRC, company_2_t1_call_MID = clean_prices_2(company_2_t1_call_STRIKE_PRC,\n",
    "                                                                         company_2_t1_call_MID)\n",
    " company_1_t2_call_STRIKE_PRC, company_1_t2_call_MID = clean_prices_2(company_1_t2_call_STRIKE_PRC,\n",
    "                                                                         company_1_t2_call_MID)\n",
    " company_2_t2_call_STRIKE_PRC, company_2_t2_call_MID = clean_prices_2(company_2_t2_call_STRIKE_PRC,\n",
    "                                                                         company_2_t2_call_MID)\n",
    " company_1_t1_put_STRIKE_PRC, company_1_t1_put_MID = clean_prices_2(company_1_t1_put_STRIKE_PRC,\n",
    "                                                                         company_1_t1_put_MID)\n",
    " company_2_t1_put_STRIKE_PRC, company_2_t1_put_MID = clean_prices_2(company_2_t1_put_STRIKE_PRC,\n",
    "                                                                         company_2_t1_put_MID)\n",
    " company_1_t2_put_STRIKE_PRC, company_1_t2_put_MID = clean_prices_2(company_1_t2_put_STRIKE_PRC,\n",
    "                                                                         company_1_t2_put_MID)\n",
    " company_2_t2_put_STRIKE_PRC, company_2_t2_put_MID = clean_prices_2(company_2_t2_put_STRIKE_PRC,\n",
    "                                                                         company_2_t2_put_MID)"
   ]
  },
  {
   "cell_type": "markdown",
   "metadata": {},
   "source": [
    "Convert the prices to probabilities"
   ]
  },
  {
   "cell_type": "code",
   "execution_count": 10,
   "metadata": {},
   "outputs": [],
   "source": [
    "v11, p11 = prices_to_density(company_1_t1_call_STRIKE_PRC,company_1_t1_call_MID,\n",
    "                             company_1_t1_put_STRIKE_PRC,company_1_t1_put_MID)\n",
    "v12, p12 = prices_to_density(company_2_t1_call_STRIKE_PRC,company_2_t1_call_MID,\n",
    "                            company_2_t1_put_STRIKE_PRC,company_2_t1_put_MID)\n",
    "v21, p21 = prices_to_density(company_1_t2_call_STRIKE_PRC,company_1_t2_call_MID,\n",
    "                            company_1_t2_put_STRIKE_PRC,company_1_t2_put_MID)\n",
    "v22, p22 = prices_to_density(company_2_t2_call_STRIKE_PRC,company_2_t2_call_MID,\n",
    "                            company_2_t2_put_STRIKE_PRC,company_2_t2_put_MID)"
   ]
  },
  {
   "cell_type": "markdown",
   "metadata": {},
   "source": [
    "Adjusting the means"
   ]
  },
  {
   "cell_type": "code",
   "execution_count": 11,
   "metadata": {
    "scrolled": true
   },
   "outputs": [],
   "source": [
    "p11=[p/sum(p11) for p in p11]\n",
    "p12=[p/sum(p12) for p in p12]\n",
    "p21=[p/sum(p21) for p in p21]\n",
    "p22=[p/sum(p22) for p in p22]\n",
    "\n",
    "\n",
    "mean_11 = sum([v*p for v,p in zip(v11,p11)])\n",
    "mean_21 = sum([v*p for v,p in zip(v21,p21)])\n",
    "mean_12 = sum([v*p for v,p in zip(v12,p12)])\n",
    "mean_22 = sum([v*p for v,p in zip(v22,p22)])\n",
    "\n",
    "v11 = [v + 0.5*(mean_21-mean_11) for v in v11]\n",
    "v21 = [v + 0.5*(mean_11-mean_21) for v in v21]\n",
    "v12 = [v + 0.5*(mean_22-mean_12) for v in v12]\n",
    "v22 = [v + 0.5*(mean_12-mean_22) for v in v22]"
   ]
  },
  {
   "cell_type": "markdown",
   "metadata": {},
   "source": [
    "Plot the corresponding densities of the marginals"
   ]
  },
  {
   "cell_type": "code",
   "execution_count": 12,
   "metadata": {},
   "outputs": [],
   "source": [
    "def use_same_grid(v1,p1,v2,p2):\n",
    "    start = min(min(v1),min(v2))\n",
    "    end = max(max(v1),max(v2))\n",
    "    x = np.sort(np.concatenate((v1,v2)))\n",
    "    v1 = np.concatenate(([start],v1,[end]))\n",
    "    p1 = np.concatenate(([0],p1,[0]))\n",
    "    v2 = np.concatenate(([start],v2,[end]))\n",
    "    p2 = np.concatenate(([0],p2,[0]))\n",
    "    f1 = interp1d(v1, p1, kind='linear')    \n",
    "    f2 = interp1d(v2, p2, kind='linear')\n",
    "    p1 = f1(x)\n",
    "    p2 = f2(x)\n",
    "    v1 = x\n",
    "    v2 = x \n",
    "    p1 = p1/sum(p1)\n",
    "    p2 = p2/sum(p2)\n",
    "    return v1,p1,v2,p2"
   ]
  },
  {
   "cell_type": "code",
   "execution_count": 13,
   "metadata": {},
   "outputs": [],
   "source": [
    "# Get new marginals on the same grid\n",
    "vv11,pp11,vv21,pp21 = use_same_grid(v11,p11,v21,p21)\n",
    "vv12,pp12,vv22,pp22 = use_same_grid(v12,p12,v22,p22)"
   ]
  },
  {
   "cell_type": "code",
   "execution_count": 14,
   "metadata": {
    "scrolled": true
   },
   "outputs": [
    {
     "data": {
      "image/png": "[encoded data removed]",
      "text/plain": [
       "<Figure size 576x288 with 4 Axes>"
      ]
     },
     "metadata": {},
     "output_type": "display_data"
    }
   ],
   "source": [
    "# fig, axs = plt.subplots(2, 2)\n",
    "\n",
    "fig,axs = plt.subplots(2, 2,figsize = (8,4))\n",
    "#fig = plt.figure(figsize = (10,10))\n",
    "\n",
    "\n",
    "x11 = np.linspace(min(vv11), max(vv11), num=200, endpoint=True)\n",
    "f11 = interp1d(vv11, pp11, kind='linear')\n",
    "axs[0, 0].plot(x11,f11(x11),color=\"blue\")\n",
    "axs[0, 0].fill_between(x11,[0]*len(x11), f11(x11), color='aliceblue')\n",
    "axs[0, 0].scatter(v11,f11(v11))\n",
    "axs[0, 0].set_title(r'$S_{t_1}^1$')\n",
    "\n",
    "\n",
    "x21 = np.linspace(min(vv21), max(vv21), num=200, endpoint=True)\n",
    "f21 = interp1d(vv21, pp21, kind='linear')\n",
    "axs[0, 1].plot(x21,f21(x21),color=\"blue\")\n",
    "axs[0, 1].fill_between(x11,[0]*len(x21), f21(x21), color='aliceblue')\n",
    "axs[0, 1].scatter(v21,f21(v21))\n",
    "axs[0, 1].set_title(r'$S_{t_2}^1$')\n",
    "\n",
    "\n",
    "x12 = np.linspace(min(vv12), max(vv12), num=200, endpoint=True)\n",
    "f12 = interp1d(vv12, pp12, kind='linear')\n",
    "axs[1, 0].plot(x12,f12(x12),color=\"blue\")\n",
    "axs[1, 0].fill_between(x12,[0]*len(x12), f12(x12), color='aliceblue')\n",
    "axs[1, 0].scatter(v12,f12(v12))\n",
    "axs[1, 0].set_title(r'$S_{t_1}^2$')\n",
    "\n",
    "\n",
    "x22 = np.linspace(min(vv22), max(vv22), num=200, endpoint=True)\n",
    "f22 = interp1d(vv22, pp22, kind='linear')\n",
    "axs[1, 1].plot(x22,f22(x22),color=\"blue\")\n",
    "axs[1, 1].fill_between(x22,[0]*len(x22), f22(x22), color='aliceblue')\n",
    "axs[1, 1].scatter(v22,f22(v22))\n",
    "axs[1, 1].set_title(r'$S_{t_2}^2$')\n",
    "\n",
    "axs[0,0].grid(True, linestyle='--')\n",
    "axs[0,1].grid(True, linestyle='--')\n",
    "axs[1,0].grid(True, linestyle='--')\n",
    "axs[1,1].grid(True, linestyle='--')\n",
    "fig.subplots_adjust(right=0.9,top = 0.9,wspace = 0.25,hspace = 0.75)\n",
    "plt.show()"
   ]
  },
  {
   "cell_type": "markdown",
   "metadata": {},
   "source": [
    "U-Quantization"
   ]
  },
  {
   "cell_type": "code",
   "execution_count": 15,
   "metadata": {},
   "outputs": [],
   "source": [
    "def discretize_density(density,min=0, max=10,N=10000,n=20,average=True,use_mean=False,mean_value=1):\n",
    "    vv = np.linspace(min,max,N)\n",
    "    epsilon = 1/n\n",
    "    #Distribution Function:\n",
    "    distr = np.cumsum(density(vv))/(np.cumsum(density(vv)))[-1]\n",
    "    if average:\n",
    "        v = np.zeros(n)\n",
    "        for j in range(n-1):\n",
    "            k=[]\n",
    "            for i in range(N):\n",
    "                if distr[i] >= ((j+1)/n - epsilon) and distr[i] < (j+1)/n :\n",
    "                    k.append(vv[i])\n",
    "            v[j] = np.mean(k)\n",
    "        k=[]\n",
    "        for i in range(N):\n",
    "            if distr[i] >= (1-epsilon) and distr[i] < 1:\n",
    "                k.append(vv[i])\n",
    "        v[-1]=np.min(k)\n",
    "        if use_mean:\n",
    "            v[-1] = n*mean_value - np.sum(v[:n])\n",
    "        p = np.repeat(1/n,n)\n",
    "    else:\n",
    "        v=np.linspace(min,max,n)\n",
    "        p=density(v)\n",
    "    return v,p"
   ]
  },
  {
   "cell_type": "code",
   "execution_count": 16,
   "metadata": {},
   "outputs": [],
   "source": [
    "v11,p11 = discretize_density(interp1d(v11, p11, kind='linear'),min = min(v11),max = max(v11))\n",
    "v12,p12 = discretize_density(interp1d(v12, p12, kind='linear'),min = min(v12),max = max(v12))\n",
    "v21,p21 = discretize_density(interp1d(v21, p21, kind='linear'),min = min(v21),max = max(v21))\n",
    "v22,p22 = discretize_density(interp1d(v22, p22, kind='linear'),min = min(v22),max = max(v22))\n",
    "mean_11 = sum([v*p for v,p in zip(v11,p11)])\n",
    "mean_21 = sum([v*p for v,p in zip(v21,p21)])\n",
    "mean_12 = sum([v*p for v,p in zip(v12,p12)])\n",
    "mean_22 = sum([v*p for v,p in zip(v22,p22)])\n",
    "v11 = [v + 0.5*(mean_21-mean_11) for v in v11]\n",
    "v21 = [v + 0.5*(mean_11-mean_21) for v in v21]\n",
    "v12 = [v + 0.5*(mean_22-mean_12) for v in v12]\n",
    "v22 = [v + 0.5*(mean_12-mean_22) for v in v22]"
   ]
  },
  {
   "cell_type": "markdown",
   "metadata": {},
   "source": [
    "$\\textbf{Compute Price Bounds given these Marginals}$"
   ]
  },
  {
   "cell_type": "markdown",
   "metadata": {},
   "source": [
    "We first define the payoff functions"
   ]
  },
  {
   "cell_type": "code",
   "execution_count": 17,
   "metadata": {},
   "outputs": [],
   "source": [
    "from scipy.stats import norm\n",
    "\n",
    "def dual_dynamic_2dim(values1,prob1,values2,prob2,func,sigma_low = 0.1,sigma_up = 0.2, strikes = [0],\n",
    "                      minimize=True, method = \"gurobi\"):\n",
    "    n1 = len(values1)\n",
    "    n2 = len(values2)\n",
    "    \n",
    "    def d1(x,sigma,K,T):\n",
    "        return (np.log(x/K)+sigma**2*(T))/(sigma*np.sqrt(T))\n",
    "    def d2(x,sigma,K,T):\n",
    "        return d1(x,sigma,K,T)-sigma*np.sqrt(T) \n",
    "    \n",
    "    # Defining the Cost Function\n",
    "    costs = np.zeros((n1,n2))\n",
    "    for i in range(n1):\n",
    "        for j in range(n2):\n",
    "            costs[i,j] = func(values1[i],values2[j])\n",
    "    import gurobipy as gp\n",
    "    from gurobipy import GRB\n",
    "    m = gp.Model(\"m\")\n",
    "    m.setParam( 'OutputFlag', False )\n",
    "    x = m.addMVar(shape=n1+n2+n1+len(strikes)*n1,lb = -GRB.INFINITY,ub = GRB.INFINITY, vtype=GRB.CONTINUOUS, name=\"x\")\n",
    "    for i in range(n1):\n",
    "        for j in range(n2):\n",
    "            a1 = np.zeros(n1)\n",
    "            a1[i] = 1\n",
    "            a2 = np.zeros(n2)\n",
    "            a2[j] = 1\n",
    "            a3 = np.zeros(n1)\n",
    "            a3[i] = (values2[j]-values1[i])\n",
    "            a4 = np.zeros((n1,len(strikes)))\n",
    "            # Bounds of p\n",
    "            p = [[values1[i]*norm.cdf(d1(values1[i],sigma_low,strikes[s],1/4))-strikes[s]*norm.cdf(d2(values1[i],sigma_low,strikes[s],1/4)),\n",
    "                 values1[i]*norm.cdf(d1(values1[i],sigma_up,strikes[s],1/4))-strikes[s]*norm.cdf(d2(values1[i],sigma_up,strikes[s],1/4))] for s in range(len(strikes))]     \n",
    "            for index in itertools.product([0,1],repeat = len(strikes)): #only look at extreme values of p\n",
    "                for l in range(len(strikes)):\n",
    "                    a4[i,l] = (max(values2[j]-strikes[l],0)-p[l][index[l]])\n",
    "                lhs =  np.concatenate((a1,a2,a3,a4.reshape(-1)))\n",
    "                if minimize == True:\n",
    "                    m.addConstr(lhs @ x <= np.array(costs[i,j]))\n",
    "                elif minimize == False:\n",
    "                    m.addConstr(lhs @ x >= np.array(costs[i,j])) \n",
    "                \n",
    "    # Solve Linear System\n",
    "    #####################\n",
    "    objective = np.concatenate((prob1,prob2,np.zeros(n1+n1*len(strikes))))\n",
    "    if(minimize == True):\n",
    "        m.setObjective(objective @ x, GRB.MAXIMIZE)\n",
    "    elif(minimize == False):\n",
    "        m.setObjective(objective @ x, GRB.MINIMIZE)\n",
    "    m.optimize()\n",
    "    return m.objVal, m \n",
    "\n",
    "def dual_2dim(values1,prob1,values2,prob2,func,minimize=True):\n",
    "    n1 = len(values1)\n",
    "    n2 = len(values2)\n",
    "    \n",
    "    # Defining the Cost Function\n",
    "    costs = np.zeros((n1,n2))\n",
    "    for i in range(n1):\n",
    "        for j in range(n2):\n",
    "                costs[i,j] = func(values1[i],values2[j])\n",
    "\n",
    "    import gurobipy as gp\n",
    "    from gurobipy import GRB\n",
    "    m = gp.Model(\"m\")\n",
    "    m.setParam( 'OutputFlag', False )\n",
    "    x = m.addMVar(shape=2*n1+n2,lb = -GRB.INFINITY,ub = GRB.INFINITY, vtype=GRB.CONTINUOUS, name=\"x\")\n",
    "    for i in range(n1):\n",
    "        for j in range(n2):\n",
    "            a1 = np.repeat(0,n1)\n",
    "            a1[i] = 1\n",
    "            a2 = np.repeat(0,n2)\n",
    "            a2[j] = 1\n",
    "            a4 = np.zeros(n1)\n",
    "            a4[i] = (values2[j]-values1[i])\n",
    "            lhs =  np.concatenate((a1,a2,a4))\n",
    "            if minimize == True:\n",
    "                m.addConstr(lhs @ x <= np.array(costs[i,j]))\n",
    "            elif minimize == False:\n",
    "                m.addConstr(lhs @ x >= np.array(costs[i,j]))\n",
    "        \n",
    "    #print(np.unique(A, return_counts=True))\n",
    "    # Solve Linear System\n",
    "    #####################\n",
    "    objective = np.concatenate((prob1,prob2,np.zeros(n1)))\n",
    "    up_limit = None\n",
    "    down_limit = None\n",
    "\n",
    "    if(minimize == True):\n",
    "        m.setObjective(objective @ x, GRB.MAXIMIZE)\n",
    "    elif(minimize == False):\n",
    "        m.setObjective(objective @ x, GRB.MINIMIZE)\n",
    "    m.optimize()\n",
    "    return m.objVal, m\n",
    "\n",
    "# Definition of Primal Problem\n",
    "def mot(*args,func,minimize=True,martingale = True,variance_info =False, variance_level = 1,variance_times = (1,2), method =\"gurobi\",iterations = 10e20): \n",
    "    # Importing necessary packages\n",
    "    import numpy as np\n",
    "    import itertools\n",
    "    from scipy.optimize import linprog\n",
    "    \n",
    "    \n",
    "    # Grab the Number of Marginals\n",
    "    n= int(len(args)/2)\n",
    "    \n",
    "    # Grab the values and the probabilities\n",
    "    values=[]\n",
    "    prob=[]\n",
    "\n",
    "    for i in range(n):\n",
    "            values.append(args[2*i])\n",
    "            prob.append(args[2*i+1])    \n",
    "                   \n",
    "    # Define necessary Variables: Length of the vectors\n",
    "    N=[]\n",
    "    for i in range(n):\n",
    "        N.append(len(values[i]))         \n",
    "   \n",
    "    # Create one List containing all indices: [i_1,....,i_n,j_1,...j_n,k_1,...k_n,...]\n",
    "    # where i_1,...i_n are the indices from the first marginal, j_1,...j_n the indices from \n",
    "    # the second and so on.\n",
    "    indices_in_one_list = []\n",
    "    for i in range(n):\n",
    "        for j in range(N[i]):\n",
    "                indices_in_one_list.append(j)\n",
    " \n",
    "    \n",
    "    # Dimensions of the Problem as Tuple:\n",
    "    dimensions = ()\n",
    "    for i in range(n):\n",
    "        dimensions+=(N[i],)\n",
    "        \n",
    "    #For indexing we need the index range:        \n",
    "    index_range = ()\n",
    "    for i in range(n):\n",
    "        index_range +=(slice(0,N[i]),)\n",
    "        \n",
    "    # Creating a list with all posible tuples of index combinations  \n",
    "    all_tuples=[]\n",
    "    # iterate over all combinations of length n\n",
    "    for l in list(itertools.combinations(indices_in_one_list,n)):\n",
    "        logic = 1\n",
    "        # Check whether index i comes from marginal i\n",
    "        for i in range(n):\n",
    "            logic = logic*(l[i] in range(N[i]))\n",
    "        if logic == 1 and l not in all_tuples:\n",
    "            all_tuples.append(l)\n",
    "    \n",
    "    # Free Memory\n",
    "    indices_in_one_list = 0\n",
    "    # All tuples of shorter length with same beginning, i.e. cutting the longer tuples  \n",
    "    tuple_shorter=[]    \n",
    "    for i in range(0,n):\n",
    "        tuple_shorter.append([])\n",
    "        for t in all_tuples:\n",
    "            if t[:i] not in tuple_shorter[i]:\n",
    "                tuple_shorter[i].append(t[:i])           \n",
    "    if method != \"gurobi\":\n",
    "        # Define R.H.S vector\n",
    "        ####################\n",
    "        r=[]\n",
    "        for i in range(n):\n",
    "            for j in range(N[i]):\n",
    "                r.append(prob[i][j]) # Adding the rhs values for the marginal conditions\n",
    "        \n",
    "        # L.H.S. Vector / Setting the size\n",
    "        ##################################\n",
    "        \n",
    "        A = np.zeros((np.sum(dimensions),np.prod(dimensions))) # Adjusting Size only for Marginal conditions\n",
    "    \n",
    "        # Marginal Conditions  \n",
    "        ####################\n",
    "        row=0 # indicates the current row of the Matrix A\n",
    "        for i in range(n):\n",
    "            for j in range(N[i]):\n",
    "                ind=()\n",
    "                a=np.zeros(dimensions)\n",
    "                for k in range(n):\n",
    "                    if k != i :\n",
    "                        ind += (index_range[k],)\n",
    "                    elif k == i :\n",
    "                        ind += (j,)\n",
    "                a[ind] = 1\n",
    "                A[row,:]=np.reshape(a,np.prod(dimensions))\n",
    "                row+=1\n",
    "                \n",
    "        # Martingale Conditions       \n",
    "        #######################\n",
    "        # Condition: E_Q[S_i|S_{i-1},...,S_1]=S_{i-1} f.a. i=1,...,n\n",
    "        if martingale:\n",
    "            for i in range(1,n): # Loop over time steps\n",
    "                a = np.zeros(dimensions) # will be fed with data for the measure\n",
    "                for tup1 in tuple_shorter[i]: # Iteration over all possible values\n",
    "                    for tup2 in all_tuples:\n",
    "                        if tup2[:i] == tup1:\n",
    "                            a[tup2] = values[i][tup2[i]]-values[i-1][tup2[i-1]]                      \n",
    "                    # append this condition to A\n",
    "                    A = np.vstack([A, np.reshape(a,np.prod(dimensions))])\n",
    "                    # append a 0 to the right hand side\n",
    "                    r = np.hstack([r,0])\n",
    "                    row+=1\n",
    "    elif method == \"gurobi\":\n",
    "        # Build the Gurobi Model\n",
    "        import gurobipy as gp\n",
    "        from gurobipy import GRB\n",
    "        m = gp.Model(\"m\")\n",
    "        m.setParam( 'OutputFlag', False )\n",
    "        m.setParam('Method', 1)\n",
    "        m.setParam('IterationLimit',iterations)\n",
    "        x = m.addMVar(shape=np.int(np.prod(dimensions)),lb = 0, ub = 1, vtype=GRB.CONTINUOUS, name=\"x\") \n",
    "        # Marginal Conditions  \n",
    "        ####################\n",
    "        row=0 # indicates the current row of the Matrix A\n",
    "        for i in range(n):\n",
    "            for j in range(N[i]):\n",
    "                ind=()\n",
    "                a=np.zeros(dimensions)\n",
    "                for k in range(n):\n",
    "                    if k != i :\n",
    "                        ind += (index_range[k],)\n",
    "                    elif k == i :\n",
    "                        ind += (j,)\n",
    "                a[ind] = 1\n",
    "                m.addConstr(np.reshape(a,np.prod(dimensions)) @ x == np.array(prob[i][j]))                 \n",
    "        # Martingale Conditions       \n",
    "        #######################\n",
    "        # Condition: E_Q[S_i|S_{i-1},...,S_1]=S_{i-1} f.a. i=1,...,n\n",
    "        if martingale: \n",
    "            for i in range(1,n): # Loop over time steps\n",
    "              a = np.zeros(dimensions) # will be fed with data for the measure\n",
    "              for tup1 in tuple_shorter[i]: # Iteration over all possible values\n",
    "                  for tup2 in all_tuples:\n",
    "                      if tup2[:i] == tup1:\n",
    "                          a[tup2] = values[i][tup2[i]]-values[i-1][tup2[i-1]]                      \n",
    "                  # append this condition\n",
    "                  m.addConstr(np.reshape(a,np.prod(dimensions)) @ x == 0) \n",
    " \n",
    "        # Variance Information\n",
    "        ###########################\n",
    "        # Condition: E_Q[(S_n/S_(n-1))^2]=sigma^2+1\n",
    "        if variance_info:\n",
    "            time_1 = variance_times[0]\n",
    "            time_2 = variance_times[1]\n",
    "            a = np.zeros(dimensions) # will be fed with data for the measure\n",
    "            for tup in all_tuples:\n",
    "                a[tup] = (values[time_2-1][tup[time_2-1]]/values[time_1-1][tup[time_1-1]])**2\n",
    "                # append this condition\n",
    "            m.addConstr(np.reshape(a,np.prod(dimensions)) @ x == variance_level+1)\n",
    "                \n",
    "    # Define Payoff/Cost Array\n",
    "    #########################\n",
    "            \n",
    "    # Function that returns correpsonding values to some given tuple,\n",
    "    # e.g. (3,5,1,2) - > (values[1][3],values[2][5],values[3][1],values[4][2])\n",
    "    def ind_to_value(index_tuple):\n",
    "        v=()\n",
    "        for i in range(n):\n",
    "            v+=(values[i][index_tuple[i]],)\n",
    "        return v\n",
    "     \n",
    "    costs = np.zeros(dimensions)    \n",
    "    for tuple in all_tuples:\n",
    "            costs[tuple] = func(*ind_to_value(tuple))\n",
    "    costs = np.reshape(costs,np.prod(dimensions))           \n",
    "  \n",
    "   \n",
    "    # Solve Linear System\n",
    "    #####################\n",
    "    if method != \"gurobi\":\n",
    "        if(minimize == True):\n",
    "            res = linprog(costs, A_eq=A, b_eq=r, bounds=(0,1),  options={\"disp\": False}, method = \"interior-point\")\n",
    "        elif(minimize == False):\n",
    "            res = linprog(-costs, A_eq=A, b_eq=r, bounds=(0,1),  options={\"disp\": False}, method = \"interior-point\")\n",
    "        if res.success:\n",
    "            # print out optimal q and optimal price\n",
    "            q = res[\"x\"]\n",
    "            if(minimize == True):\n",
    "                price = res[\"fun\"]\n",
    "            else:\n",
    "                price = -res[\"fun\"]            \n",
    "            return price, q\n",
    "        else:\n",
    "            print(\"linprog failed:\", res.message)\n",
    "    elif method == \"gurobi\":\n",
    "        if minimize == True:\n",
    "            m.setObjective(costs @ x, GRB.MINIMIZE)\n",
    "        elif minimize == False:\n",
    "            m.setObjective(costs @ x, GRB.MAXIMIZE)\n",
    "        m.optimize()\n",
    "        price = m.objVal\n",
    "        q = m\n",
    "        return price, np.array(m.x)\n",
    "    "
   ]
  },
  {
   "cell_type": "markdown",
   "metadata": {},
   "source": [
    "# Examples "
   ]
  },
  {
   "cell_type": "markdown",
   "metadata": {},
   "source": [
    "Define Strikes"
   ]
  },
  {
   "cell_type": "code",
   "execution_count": 18,
   "metadata": {},
   "outputs": [],
   "source": [
    "strikes = np.linspace(360,360,1)"
   ]
  },
  {
   "cell_type": "markdown",
   "metadata": {},
   "source": [
    "Define the Payoffs"
   ]
  },
  {
   "cell_type": "code",
   "execution_count": 19,
   "metadata": {},
   "outputs": [],
   "source": [
    "# We use the same payoff functions as always\n",
    "\n",
    "def payoff1(a,b):\n",
    "    return np.abs(a-b)\n",
    "\n",
    "def payoff2(a,b):\n",
    "    return np.maximum(np.maximum(a,b)-360,0)\n",
    "\n",
    "def payoff3(a,b):\n",
    "    return np.maximum(0.5*(a+b)-350,0)\n",
    "\n",
    "def payoff4(a,b):\n",
    "    return np.abs(a*1.1-b)\n"
   ]
  },
  {
   "cell_type": "code",
   "execution_count": 20,
   "metadata": {},
   "outputs": [
    {
     "name": "stdout",
     "output_type": "stream",
     "text": [
      "Lower Bound\n",
      "Without Options\n",
      "Using license file C:\\Users\\julia\\gurobi.lic\n",
      "Academic license - for non-commercial use only\n",
      "26.509987394442298\n",
      "With Options\n",
      "26.509987394442305\n",
      "Upper Bound\n",
      "With Options\n",
      "42.933529495914215\n",
      "Without Options\n",
      "43.54361772296548\n"
     ]
    }
   ],
   "source": [
    "print(\"Lower Bound\")\n",
    "print(\"Without Options\")\n",
    "print(dual_2dim(v11,p11,v21,p21,func=payoff1,minimize=True)[0])\n",
    "print(\"With Options\")\n",
    "print(dual_dynamic_2dim(v11,p11,v21,p21,func=payoff1,minimize=True,\n",
    "                        strikes = strikes,sigma_low =0.00001,sigma_up =0.6)[0])\n",
    "print(\"Upper Bound\")\n",
    "print(\"With Options\")\n",
    "print(dual_dynamic_2dim(v11,p11,v21,p21,func=payoff1, strikes = strikes,sigma_low =0.2,sigma_up =0.5,minimize=False)[0])\n",
    "print(\"Without Options\")\n",
    "print(dual_2dim(v11,p11,v21,p21,func=payoff1,minimize=False)[0])"
   ]
  },
  {
   "cell_type": "markdown",
   "metadata": {},
   "source": [
    "Computation of the bounds"
   ]
  },
  {
   "cell_type": "code",
   "execution_count": 21,
   "metadata": {},
   "outputs": [],
   "source": [
    "def compute_increase(v11,p11,v21,p21,payoff1,strikes,sigma_mid=0.3):\n",
    "    original_bound = dual_2dim(v11,p11,v21,p21,func=payoff1,minimize=False)[0]\n",
    "    #Increase in lower bound\n",
    "    lower_bound1 = []\n",
    "    lbs = np.linspace(sigma_mid,0,150)\n",
    "    for lb in lbs:\n",
    "        try:\n",
    "            lower_bound1+= [dual_dynamic_2dim(v11,p11,v21,p21,func=payoff1,minimize=False,\n",
    "                                sigma_low =sigma_mid-lb,sigma_up = sigma_mid+lb, strikes = strikes)[0]]\n",
    "        except:\n",
    "            lower_bound1 += [\"NoNumber\"]\n",
    "    valid_indices1 = [i for i in range(150) if lower_bound1[i]!=\"NoNumber\"]\n",
    "    lower_bound1 = [lower_bound1[i] for i in valid_indices1]\n",
    "    lbs = [lbs[i] for i in valid_indices1]\n",
    "    return original_bound, lbs, lower_bound1"
   ]
  },
  {
   "cell_type": "code",
   "execution_count": 22,
   "metadata": {},
   "outputs": [],
   "source": [
    "def plot_improvement(original_bound,lbs, lower_bound1,payoff,payoff_name,save_name = \"name\",save = False):\n",
    "    # Interpolate the bound functions\n",
    "    interpol1 = interp1d(lbs,lower_bound1)\n",
    "\n",
    "#     optimal_measure1 = mot(v11,p11,v21,p21,func=payoff,minimize=False)[1].reshape(20,20)\n",
    "#     upper_critical_points1 = compute_bounds(optimal_measure1,p11,v11,p21,v21,strikes,lower_epsilon = False)\n",
    "#     lower_critical_bounds1 = compute_bounds(optimal_measure1,p11,v11,p21,v21,strikes,lower_epsilon = True)\n",
    "#     lower_critical1 = [round(u,5) for u in lower_critical_bounds1[1] if (round(u,5) <= round(max(lbs),5))*(round(u,5) >= round(min(lbs),5))]\n",
    "#     upper_critical1 = [round(u,5) for u in upper_critical_points1[1] if (round(u,5) <= round(max(ubs),5))*(round(u,5) >= round(min(ubs),5))]\n",
    "    \n",
    "    # Create Subplots\n",
    "    fig, axs = plt.subplots(figsize = (5,3))\n",
    "    fig.suptitle(payoff_name)\n",
    "    plt.gcf().subplots_adjust(left=0.2,wspace = 0.5,bottom =0.25)\n",
    "\n",
    "    # Plotting of the resultant functions and the points from which on we expect improvement\n",
    "    line = axs.plot(lbs,lower_bound1,color = \"steelblue\")\n",
    "    axs.set(xlabel=r'$\\varepsilon$', ylabel=r'$P_{\\Xi_{0.3-\\varepsilon,0.3+\\varepsilon}}(\\Phi)$')\n",
    "#    axs[0].scatter(lower_critical1,interpol1(lower_critical1),color = \"steelblue\")\n",
    "    axs.plot([lbs[0],lbs[-1]],[original_bound,original_bound],linestyle='dashed',color = \"black\")\n",
    "    if save:\n",
    "        plt.savefig(save_name, dpi=150)\n",
    "    return axs, fig, line"
   ]
  },
  {
   "cell_type": "code",
   "execution_count": 23,
   "metadata": {},
   "outputs": [],
   "source": [
    "def plot_improvement_in_existing_plot(axs,fig,original_bound,lbs, lower_bound1,payoff,save_name = \"None\",color=\"red\",linestyle =\"dotted\",save = False):\n",
    "    # Interpolate the bound functions\n",
    "#    interpol1 = interp1d(lbs,lower_bound1)\n",
    "#    interpol2 = interp1d(ubs,lower_bound2)\n",
    "#    optimal_measure1 = mot(v11,p11,v21,p21,func=payoff,minimize=False)[1].reshape(20,20)\n",
    "#     upper_critical_points1 = compute_bounds(optimal_measure1,p11,v11,p21,v21,strikes,lower_epsilon = False)\n",
    "#     lower_critical_bounds1 = compute_bounds(optimal_measure1,p11,v11,p21,v21,strikes,lower_epsilon = True)\n",
    "#     lower_critical1 = [round(u,5) for u in lower_critical_bounds1[1] if (round(u,5) <= round(max(lbs),5))*(round(u,5) >= round(min(lbs),5))]\n",
    "#     upper_critical1 = [round(u,5) for u in upper_critical_points1[1] if (round(u,5) <= round(max(ubs),5))*(round(u,5) >= round(min(ubs),5))]\n",
    "  \n",
    "\n",
    "    # Plotting of the resultant functions and the points from which on we expect improvement\n",
    "    line = axs.plot(lbs,lower_bound1,linestyle=linestyle,color = color)\n",
    "    if save:\n",
    "        plt.savefig(save_name, dpi=150)\n",
    "        plt.show()        \n",
    "    return axs, fig, line"
   ]
  },
  {
   "cell_type": "code",
   "execution_count": 24,
   "metadata": {
    "scrolled": true
   },
   "outputs": [
    {
     "name": "stderr",
     "output_type": "stream",
     "text": [
      "<ipython-input-17-b32f5e9ff8fa>:9: RuntimeWarning: divide by zero encountered in double_scalars\n",
      "  return (np.log(x/K)+sigma**2*(T))/(sigma*np.sqrt(T))\n"
     ]
    },
    {
     "data": {
      "image/png": "[encoded data removed]",
      "text/plain": [
       "<Figure size 360x216 with 1 Axes>"
      ]
     },
     "metadata": {},
     "output_type": "display_data"
    }
   ],
   "source": [
    "strikes1 = [360]\n",
    "strikes2 = [340,360]\n",
    "strikes3 = [320,340,360]\n",
    "\n",
    "original_bound, l1a, lb1a = compute_increase(v11,p11,v21,p21,payoff1,strikes1,sigma_mid=0.3)\n",
    "axs1, fig1, line1 = plot_improvement(original_bound,l1a, lb1a,payoff1,r'$\\Phi(S_{t_1},S_{t_2})=|S_{t_2}-S_{t_1}|$')\n",
    "\n",
    "original_bound, l2a, lb2a = compute_increase(v11,p11,v21,p21,payoff1,strikes2,sigma_mid=0.3)\n",
    "axs2, fig2, line2 = plot_improvement_in_existing_plot(axs1,fig1,original_bound,l2a, lb2a,payoff1,linestyle =\"dotted\")\n",
    "\n",
    "original_bound, l3a, lb3a = compute_increase(v11,p11,v21,p21,payoff1,strikes3,sigma_mid=0.3)\n",
    "axs3, fig3, line3 = plot_improvement_in_existing_plot(axs2,fig2,original_bound,l3a, lb3a,payoff1,\"bs_1.eps\",color=\"seagreen\",linestyle =\"dashdot\",save = True)"
   ]
  },
  {
   "cell_type": "code",
   "execution_count": 25,
   "metadata": {
    "scrolled": true
   },
   "outputs": [
    {
     "name": "stderr",
     "output_type": "stream",
     "text": [
      "<ipython-input-17-b32f5e9ff8fa>:9: RuntimeWarning: divide by zero encountered in double_scalars\n",
      "  return (np.log(x/K)+sigma**2*(T))/(sigma*np.sqrt(T))\n"
     ]
    },
    {
     "data": {
      "image/png": "[encoded data removed]",
      "text/plain": [
       "<Figure size 360x216 with 1 Axes>"
      ]
     },
     "metadata": {},
     "output_type": "display_data"
    }
   ],
   "source": [
    "strikes1 = [360]\n",
    "strikes2 = [340,360]\n",
    "strikes3 = [320,340,360]\n",
    "\n",
    "original_bound, l1b, lb1b = compute_increase(v11,p11,v21,p21,payoff2,strikes1,sigma_mid=0.3)\n",
    "axs1, fig1, line1 = plot_improvement(original_bound,l1b, lb1b,payoff2,r'$\\Phi(S_{t_1},S_{t_2})=(\\max(S_{t_2},S_{t_1})-400)_+$')\n",
    "original_bound, l2b, lb2b = compute_increase(v11,p11,v21,p21,payoff2,strikes2,sigma_mid=0.3)\n",
    "axs2, fig2, line2 = plot_improvement_in_existing_plot(axs1,fig1,original_bound,l2b, lb2b,payoff2,linestyle =\"dotted\")\n",
    "original_bound, l3b, lb3b= compute_increase(v11,p11,v21,p21,payoff2,strikes3,sigma_mid=0.3)\n",
    "axs3, fig3, line3 = plot_improvement_in_existing_plot(axs2,fig2,original_bound,l3b, lb3b,payoff2,\"bs_2.eps\",color=\"seagreen\",linestyle =\"dashdot\",save = True)\n",
    "\n"
   ]
  },
  {
   "cell_type": "code",
   "execution_count": 26,
   "metadata": {
    "scrolled": true
   },
   "outputs": [
    {
     "name": "stderr",
     "output_type": "stream",
     "text": [
      "<ipython-input-17-b32f5e9ff8fa>:9: RuntimeWarning: divide by zero encountered in double_scalars\n",
      "  return (np.log(x/K)+sigma**2*(T))/(sigma*np.sqrt(T))\n"
     ]
    },
    {
     "data": {
      "image/png": "[encoded data removed]",
      "text/plain": [
       "<Figure size 360x216 with 1 Axes>"
      ]
     },
     "metadata": {},
     "output_type": "display_data"
    }
   ],
   "source": [
    "strikes1 = [360]\n",
    "strikes2 = [340,360]\n",
    "strikes3 = [320,340,360]\n",
    "\n",
    "original_bound, l1c, lb1c = compute_increase(v11,p11,v21,p21,payoff3,strikes1,sigma_mid=0.3)\n",
    "axs1, fig1, line1 = plot_improvement(original_bound,l1c, lb1c,payoff3,r'$\\Phi(S_{t_1},S_{t_2})=\\left(0.5(S_{t_1}+S_{t_2})-350\\right)_+$')\n",
    "original_bound, l2c, lb2c = compute_increase(v11,p11,v21,p21,payoff3,strikes2,sigma_mid=0.3)\n",
    "axs2, fig2, line2 = plot_improvement_in_existing_plot(axs1,fig1,original_bound,l2c, lb2c,payoff3,linestyle =\"dotted\")\n",
    "original_bound, l3c, lb3c = compute_increase(v11,p11,v21,p21,payoff3,strikes3,sigma_mid=0.3)\n",
    "axs3, fig3, line3 = plot_improvement_in_existing_plot(axs2,fig2,original_bound,l3c, lb3c,payoff3,\"bs_3.eps\",color=\"seagreen\",linestyle =\"dashdot\",save = True)\n"
   ]
  },
  {
   "cell_type": "code",
   "execution_count": 27,
   "metadata": {
    "scrolled": false
   },
   "outputs": [
    {
     "name": "stderr",
     "output_type": "stream",
     "text": [
      "<ipython-input-17-b32f5e9ff8fa>:9: RuntimeWarning: divide by zero encountered in double_scalars\n",
      "  return (np.log(x/K)+sigma**2*(T))/(sigma*np.sqrt(T))\n"
     ]
    },
    {
     "data": {
      "image/png": "[encoded data removed]",
      "text/plain": [
       "<Figure size 360x216 with 1 Axes>"
      ]
     },
     "metadata": {},
     "output_type": "display_data"
    }
   ],
   "source": [
    "strikes1 = [360]\n",
    "strikes2 = [340,360]\n",
    "strikes3 = [320,340,360]\n",
    "\n",
    "original_bound, l1d, lb1d = compute_increase(v11,p11,v21,p21,payoff4,strikes1,sigma_mid=0.3)\n",
    "axs1, fig1, line1 = plot_improvement(original_bound,l1d, lb1d,payoff4,r'$\\Phi(S_{t_1},S_{t_2})=|S_{t_2}-1.1\\cdot S_{t_1}|$')\n",
    "original_bound, l2d, lb2d = compute_increase(v11,p11,v21,p21,payoff4,strikes2,sigma_mid=0.3)\n",
    "axs2, fig2, line2 = plot_improvement_in_existing_plot(axs1,fig1,original_bound,l2d, lb2d,payoff4,linestyle =\"dotted\")\n",
    "original_bound, l3d, lb3d = compute_increase(v11,p11,v21,p21,payoff4,strikes3,sigma_mid=0.3)\n",
    "axs3, fig3, line3 = plot_improvement_in_existing_plot(axs2,fig2,original_bound,l3d, lb3d,payoff4,\"bs_4.eps\",color=\"seagreen\",linestyle =\"dashdot\",save = True)\n"
   ]
  }
 ],
 "metadata": {
  "kernelspec": {
   "display_name": "Python 3",
   "language": "python",
   "name": "python3"
  },
  "language_info": {
   "codemirror_mode": {
    "name": "ipython",
    "version": 3
   },
   "file_extension": ".py",
   "mimetype": "text/x-python",
   "name": "python",
   "nbconvert_exporter": "python",
   "pygments_lexer": "ipython3",
   "version": "3.7.9"
  }
 },
 "nbformat": 4,
 "nbformat_minor": 4
}
